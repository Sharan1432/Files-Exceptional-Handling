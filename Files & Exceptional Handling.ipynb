{
 "cells": [
  {
   "cell_type": "code",
   "execution_count": 1,
   "metadata": {},
   "outputs": [
    {
     "name": "stdout",
     "output_type": "stream",
     "text": [
      "Added 37 to the list. Current list: [37]\n",
      "Removed 37 from the list. Current list: []\n",
      "Added 99 to the list. Current list: [99]\n",
      "Removed 99 from the list. Current list: []\n",
      "Added 39 to the list. Current list: [39]\n",
      "Added 11 to the list. Current list: [39, 11]\n",
      "Removed 39 from the list. Current list: [11]\n",
      "Added 6 to the list. Current list: [11, 6]\n",
      "Added 44 to the list. Current list: [11, 6, 44]\n",
      "Removed 11 from the list. Current list: [6, 44]\n",
      "Added 87 to the list. Current list: [6, 44, 87]\n",
      "Added 25 to the list. Current list: [6, 44, 87, 25]\n",
      "Removed 6 from the list. Current list: [44, 87, 25]\n",
      "Added 65 to the list. Current list: [44, 87, 25, 65]\n",
      "Added 80 to the list. Current list: [44, 87, 25, 65, 80]\n",
      "Removed 44 from the list. Current list: [87, 25, 65, 80]\n",
      "Removed 87 from the list. Current list: [25, 65, 80]\n",
      "Removed 25 from the list. Current list: [65, 80]\n",
      "Removed 65 from the list. Current list: [80]\n",
      "Removed 80 from the list. Current list: []\n",
      "Final list: []\n"
     ]
    }
   ],
   "source": [
    "import threading\n",
    "import time\n",
    "import random\n",
    "\n",
    "shared_list = []\n",
    "lock = threading.Lock()\n",
    "\n",
    "def add_to_list():\n",
    "    for i in range(10):\n",
    "        time.sleep(random.uniform(0.1, 0.3))  \n",
    "        lock.acquire()  \n",
    "        try:\n",
    "            num = random.randint(1, 100)\n",
    "            shared_list.append(num)\n",
    "            print(f\"Added {num} to the list. Current list: {shared_list}\")\n",
    "        finally:\n",
    "            lock.release()  \n",
    "\n",
    "def remove_from_list():\n",
    "    for i in range(10):\n",
    "        time.sleep(random.uniform(0.2, 0.4))  \n",
    "        lock.acquire()  #\n",
    "        try:\n",
    "            if shared_list:\n",
    "                removed_num = shared_list.pop(0)\n",
    "                print(f\"Removed {removed_num} from the list. Current list: {shared_list}\")\n",
    "            else:\n",
    "                print(\"List is empty. Nothing to remove.\")\n",
    "        finally:\n",
    "            lock.release()  \n",
    "\n",
    "add_thread = threading.Thread(target=add_to_list)\n",
    "remove_thread = threading.Thread(target=remove_from_list)\n",
    "\n",
    "add_thread.start()\n",
    "remove_thread.start()\n",
    "\n",
    "add_thread.join()\n",
    "remove_thread.join()\n",
    "\n",
    "print(\"Final list:\", shared_list)\n"
   ]
  },
  {
   "cell_type": "code",
   "execution_count": 2,
   "metadata": {},
   "outputs": [
    {
     "name": "stdout",
     "output_type": "stream",
     "text": [
      "Factorial of 6 is 720\n",
      "Factorial of 5 is 120\n",
      "Factorial of 4 is 24\n",
      "Factorial of 1 is 1\n",
      "Factorial of 3 is 6\n",
      "Factorial of 8 is 40320\n",
      "Factorial of 2 is 2\n",
      "Factorial of 9 is 362880\n",
      "Factorial of 7 is 5040\n",
      "Factorial of 10 is 3628800\n"
     ]
    }
   ],
   "source": [
    "from concurrent.futures import ThreadPoolExecutor, as_completed\n",
    "\n",
    "def factorial(n):\n",
    "    result = 1\n",
    "    for i in range(1, n + 1):\n",
    "        result *= i\n",
    "    return f\"Factorial of {n} is {result}\"\n",
    "\n",
    "numbers = list(range(1, 11))\n",
    "\n",
    "with ThreadPoolExecutor() as executor:\n",
    "    futures = {executor.submit(factorial, num): num for num in numbers}\n",
    "    \n",
    "    for future in as_completed(futures):\n",
    "        print(future.result())\n"
   ]
  },
  {
   "cell_type": "code",
   "execution_count": null,
   "metadata": {},
   "outputs": [],
   "source": [
    "import time\n",
    "from multiprocessing import Pool\n",
    "\n",
    "def compute_square(n):\n",
    "    return n * n\n",
    "\n",
    "numbers = list(range(1, 11))\n",
    "\n",
    "def measure_time(pool_size):\n",
    "    with Pool(processes=pool_size) as pool:\n",
    "        start_time = time.time()\n",
    "        results = pool.map(compute_square, numbers)\n",
    "        end_time = time.time()\n",
    "        print(f\"Pool size {pool_size} results: {results}\")\n",
    "        print(f\"Time taken with pool size {pool_size}: {end_time - start_time:.4f} seconds\\n\")\n",
    "\n",
    "for size in [2, 4, 8]:\n",
    "    measure_time(size)\n"
   ]
  }
 ],
 "metadata": {
  "kernelspec": {
   "display_name": "Python 3",
   "language": "python",
   "name": "python3"
  },
  "language_info": {
   "codemirror_mode": {
    "name": "ipython",
    "version": 3
   },
   "file_extension": ".py",
   "mimetype": "text/x-python",
   "name": "python",
   "nbconvert_exporter": "python",
   "pygments_lexer": "ipython3",
   "version": "3.12.6"
  }
 },
 "nbformat": 4,
 "nbformat_minor": 2
}
